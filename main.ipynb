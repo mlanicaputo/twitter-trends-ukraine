{
 "cells": [
  {
   "cell_type": "code",
   "execution_count": 1,
   "metadata": {},
   "outputs": [],
   "source": [
    "import matplotlib.pyplot as plt\n",
    "import pandas as pd"
   ]
  },
  {
   "cell_type": "code",
   "execution_count": 2,
   "metadata": {},
   "outputs": [
    {
     "name": "stderr",
     "output_type": "stream",
     "text": [
      "/var/folders/02/8sm7hf812xn2pq_yy1kvs60m0000gn/T/ipykernel_55536/1341822389.py:7: DtypeWarning: Columns (15) have mixed types. Specify dtype option on import or set low_memory=False.\n",
      "  df = pd.concat(\n",
      "/var/folders/02/8sm7hf812xn2pq_yy1kvs60m0000gn/T/ipykernel_55536/1341822389.py:7: DtypeWarning: Columns (15) have mixed types. Specify dtype option on import or set low_memory=False.\n",
      "  df = pd.concat(\n"
     ]
    }
   ],
   "source": [
    "# get all file paths in data directory\n",
    "import os\n",
    "fps = os.listdir(\"./data\")\n",
    "fps = [f\"./data/{fp}\" for fp in fps]\n",
    "\n",
    "\n",
    "df = pd.concat( \n",
    "    map(pd.read_csv, fps), ignore_index=True\n",
    ")"
   ]
  },
  {
   "cell_type": "code",
   "execution_count": 3,
   "metadata": {},
   "outputs": [
    {
     "name": "stdout",
     "output_type": "stream",
     "text": [
      "Index(['index', 'userid', 'username', 'acctdesc', 'location', 'following',\n",
      "       'followers', 'totaltweets', 'usercreatedts', 'tweetid',\n",
      "       'tweetcreatedts', 'retweetcount', 'text', 'hashtags', 'language',\n",
      "       'coordinates', 'favorite_count', 'is_retweet', 'original_tweet_id',\n",
      "       'original_tweet_userid', 'original_tweet_username',\n",
      "       'in_reply_to_status_id', 'in_reply_to_user_id',\n",
      "       'in_reply_to_screen_name', 'is_quote_status', 'quoted_status_id',\n",
      "       'quoted_status_userid', 'quoted_status_username', 'extractedts'],\n",
      "      dtype='object')\n"
     ]
    }
   ],
   "source": [
    "# rename index column\n",
    "df = df.rename(\n",
    "    columns={\"Unnamed: 0\": \"index\"}\n",
    ")\n",
    "print(df.columns)"
   ]
  },
  {
   "cell_type": "code",
   "execution_count": 4,
   "metadata": {},
   "outputs": [
    {
     "name": "stdout",
     "output_type": "stream",
     "text": [
      "number of tweets mentioning sweden: 174\n",
      "number of tweets mentioning finland: 3997\n",
      "number of tweets mentioning both: 51\n",
      "total number of tweets: 871453\n"
     ]
    }
   ],
   "source": [
    "# add columns to dataframe\n",
    "df[\"sweden_mentioned\"] = pd.Series(dtype=\"bool\")\n",
    "df[\"finland_mentioned\"] = pd.Series(dtype=\"bool\")\n",
    "\n",
    "series = df.iterrows()\n",
    "\n",
    "sweden_count = 0\n",
    "finland_count = 0\n",
    "both_count = 0\n",
    "for row in series:\n",
    "    current_text = row[1][12]\n",
    "    if \"sweden\" in current_text.lower() and \"finland\" in current_text.lower():\n",
    "        both_count += 1\n",
    "\n",
    "    if \"sweden\" in current_text.lower():\n",
    "        sweden_count += 1\n",
    "        df.at[row[0], \"sweden_mentioned\"] = True\n",
    "    else:\n",
    "        df.at[row[0], \"sweden_mentioned\"] = False\n",
    "\n",
    "    if \"finland\" in current_text.lower():\n",
    "        finland_count += 1\n",
    "        df.at[row[0], \"finland_mentioned\"] = True\n",
    "        # print(row[0])\n",
    "    else:\n",
    "        df.at[row[0], \"finland_mentioned\"] = False\n",
    "\n",
    "sweden_count -= both_count\n",
    "finland_count -= both_count\n",
    "\n",
    "print(f\"number of tweets mentioning sweden: {sweden_count}\")\n",
    "print(f\"number of tweets mentioning finland: {finland_count}\")\n",
    "print(f\"number of tweets mentioning both: {both_count}\")\n",
    "print(f\"total number of tweets: {len(df)}\")"
   ]
  },
  {
   "cell_type": "code",
   "execution_count": 5,
   "metadata": {},
   "outputs": [
    {
     "name": "stdout",
     "output_type": "stream",
     "text": [
      "fraction of tweets mentioning sweden: 0.000199666533938147\n",
      "fraction of tweets mentioning finland: 0.004586592736498698\n",
      "finland is 22.971264367816094x more mentioned than sweden\n"
     ]
    }
   ],
   "source": [
    "sweden_pct = sweden_count / len(df)\n",
    "finland_pct = finland_count / len(df)\n",
    "print(f\"fraction of tweets mentioning sweden: {sweden_pct}\")\n",
    "print(f\"fraction of tweets mentioning finland: {finland_pct}\")\n",
    "\n",
    "print(f\"finland is {finland_pct / sweden_pct}x more mentioned than sweden\")"
   ]
  },
  {
   "cell_type": "code",
   "execution_count": 6,
   "metadata": {},
   "outputs": [
    {
     "data": {
      "text/plain": [
       "Text(0.5, 1.0, 'Share of analyzed data by subject')"
      ]
     },
     "execution_count": 6,
     "metadata": {},
     "output_type": "execute_result"
    },
    {
     "data": {
      "image/png": "[encoded data removed]",
      "text/plain": [
       "<Figure size 432x288 with 1 Axes>"
      ]
     },
     "metadata": {},
     "output_type": "display_data"
    }
   ],
   "source": [
    "labels = ['Sweden', 'Finland', 'Both']\n",
    "sizes = [sweden_count, finland_count, both_count]\n",
    "\n",
    "fig, ax = plt.subplots()\n",
    "ax.pie(sizes, labels=labels, autopct='%1.1f%%')\n",
    "ax.set_facecolor(\"white\")\n",
    "ax.set_title('Share of analyzed data by subject')\n"
   ]
  },
  {
   "cell_type": "code",
   "execution_count": 7,
   "metadata": {},
   "outputs": [
    {
     "name": "stdout",
     "output_type": "stream",
     "text": [
      "0              México\n",
      "1       Mumbai, India\n",
      "2                🇪🇨🇺🇸\n",
      "3                 NaN\n",
      "4          Singapore \n",
      "            ...      \n",
      "4206     Gurun, Kedah\n",
      "4207              NaN\n",
      "4208           Madrid\n",
      "4209              NaN\n",
      "4210              NaN\n",
      "Name: location, Length: 4211, dtype: object\n"
     ]
    },
    {
     "data": {
      "text/plain": [
       "4211"
      ]
     },
     "execution_count": 7,
     "metadata": {},
     "output_type": "execute_result"
    }
   ],
   "source": [
    "# get a subset of the dataframe to work on instead of the entire dataframe\n",
    "reduced_df = df[df[\"text\"].str.contains(\"sweden|finland|Sweden|Finland\")]\n",
    "reduced_df = reduced_df.reset_index()\n",
    "\n",
    "print(reduced_df[\"location\"])\n",
    "\n",
    "len(reduced_df)"
   ]
  },
  {
   "cell_type": "code",
   "execution_count": 8,
   "metadata": {},
   "outputs": [],
   "source": [
    "locations = reduced_df[\"location\"].dropna()\n",
    "all_locations = list(set(locations))\n",
    "\n",
    "import json\n",
    "\n",
    "# with open(\"all_countries.json\", \"w\") as fp:\n",
    "#     json.dump(all_locations, fp)"
   ]
  },
  {
   "cell_type": "code",
   "execution_count": 9,
   "metadata": {},
   "outputs": [
    {
     "name": "stdout",
     "output_type": "stream",
     "text": [
      "0              México\n",
      "1       Mumbai, India\n",
      "2                🇪🇨🇺🇸\n",
      "3                 NaN\n",
      "4          Singapore \n",
      "            ...      \n",
      "4206     Gurun, Kedah\n",
      "4207              NaN\n",
      "4208           Madrid\n",
      "4209              NaN\n",
      "4210              NaN\n",
      "Name: location, Length: 4211, dtype: object\n",
      "0        MX\n",
      "1        IN\n",
      "2        AD\n",
      "3       NaN\n",
      "4        SG\n",
      "       ... \n",
      "4206       \n",
      "4207    NaN\n",
      "4208     CO\n",
      "4209    NaN\n",
      "4210    NaN\n",
      "Name: location, Length: 4211, dtype: object\n"
     ]
    }
   ],
   "source": [
    "# we want a plot showing the top 5 most frequently tweeting countries\n",
    "# also make a plot for positive sentiment and negative sentiment, top 5 countries\n",
    "\n",
    "# clean country data by code in dataframe\n",
    "with open(\"location_key.json\", \"r\") as fp:\n",
    "    key = json.load(fp)\n",
    "\n",
    "locations = reduced_df[\"location\"]\n",
    "print(locations)\n",
    "countries = locations.replace(key)\n",
    "print(countries)"
   ]
  },
  {
   "cell_type": "code",
   "execution_count": 10,
   "metadata": {},
   "outputs": [
    {
     "name": "stdout",
     "output_type": "stream",
     "text": [
      "0              México\n",
      "1       Mumbai, India\n",
      "2                🇪🇨🇺🇸\n",
      "3                 NaN\n",
      "4          Singapore \n",
      "            ...      \n",
      "4206     Gurun, Kedah\n",
      "4207              NaN\n",
      "4208           Madrid\n",
      "4209              NaN\n",
      "4210              NaN\n",
      "Name: location, Length: 4211, dtype: object\n",
      "0        MX\n",
      "1        IN\n",
      "2        AD\n",
      "3       NaN\n",
      "4        SG\n",
      "       ... \n",
      "4206       \n",
      "4207    NaN\n",
      "4208     CO\n",
      "4209    NaN\n",
      "4210    NaN\n",
      "Name: country, Length: 4211, dtype: object\n"
     ]
    }
   ],
   "source": [
    "reduced_df.insert(\n",
    "    len(reduced_df.columns),\n",
    "    \"country\",\n",
    "    countries\n",
    ")\n",
    "\n",
    "print(reduced_df[\"location\"])\n",
    "print(reduced_df[\"country\"])\n",
    "\n",
    "\n",
    "# WHY ARE THERE emojis in the country code?\n",
    "# fix the indices of the dataframe to be in order"
   ]
  },
  {
   "cell_type": "code",
   "execution_count": 11,
   "metadata": {},
   "outputs": [
    {
     "name": "stdout",
     "output_type": "stream",
     "text": [
      "225\n",
      "4037\n"
     ]
    }
   ],
   "source": [
    "sweden_mentions = reduced_df.query(\"sweden_mentioned == True\")\n",
    "finland_mentions = reduced_df.query(\"finland_mentioned == True\")\n",
    "print(len(sweden_mentions))\n",
    "print(len(finland_mentions))"
   ]
  },
  {
   "cell_type": "code",
   "execution_count": 12,
   "metadata": {},
   "outputs": [
    {
     "name": "stdout",
     "output_type": "stream",
     "text": [
      "US    30\n",
      "      26\n",
      "UA    16\n",
      "AE    10\n",
      "SE     8\n",
      "RU     6\n",
      "IN     5\n",
      "AF     4\n",
      "AD     4\n",
      "CA     3\n",
      "GB     3\n",
      "Name: country, dtype: int64\n",
      "[30, 26, 16, 10, 8, 6, 5, 4, 4, 3, 3]\n",
      "      331\n",
      "MX    245\n",
      "IT    207\n",
      "US    173\n",
      "FR    148\n",
      "AD    117\n",
      "VE     99\n",
      "IN     75\n",
      "AE     67\n",
      "AR     59\n",
      "BR     55\n",
      "Name: country, dtype: int64\n",
      "[331, 245, 207, 173, 148, 117, 99, 75, 67, 59, 55]\n"
     ]
    }
   ],
   "source": [
    "# find top 5 discussers of each country\n",
    "sweden_countries = sweden_mentions[\"country\"].value_counts().iloc[:11]\n",
    "print(sweden_countries)\n",
    "print(sweden_countries.to_list())\n",
    "finland_countries = finland_mentions[\"country\"].value_counts().iloc[:11]\n",
    "print(finland_countries)\n",
    "print(finland_countries.to_list())"
   ]
  },
  {
   "cell_type": "code",
   "execution_count": 13,
   "metadata": {},
   "outputs": [
    {
     "data": {
      "image/png": "[encoded data removed]",
      "text/plain": [
       "<Figure size 432x288 with 1 Axes>"
      ]
     },
     "metadata": {
      "needs_background": "light"
     },
     "output_type": "display_data"
    }
   ],
   "source": [
    "# SWEDEN COUNTRIES\n",
    "fig, ax = plt.subplots()\n",
    "\n",
    "words = [\"USA\", \"N/A\", \"Ukraine\", \"United Arab Emirates\", \"Sweden\", \"Russia\", \"India\", \"Afghanistan\", \"Andorra\", \"Canada\", \"United Kingdom\"]\n",
    "counts = sweden_countries.to_list()\n",
    "\n",
    "ax.bar(words, counts)\n",
    "\n",
    "ax.set_ylabel('Number of Tweets')\n",
    "ax.set_title('Top 10 Locations of Tweets About Sweden')\n",
    "ax.tick_params(axis='x', labelrotation = 80)\n",
    "\n",
    "plt.show()"
   ]
  },
  {
   "cell_type": "code",
   "execution_count": 14,
   "metadata": {},
   "outputs": [
    {
     "data": {
      "image/png": "[encoded data removed]",
      "text/plain": [
       "<Figure size 432x288 with 1 Axes>"
      ]
     },
     "metadata": {
      "needs_background": "light"
     },
     "output_type": "display_data"
    }
   ],
   "source": [
    "# FINLAND COUNTRIES\n",
    "fig, ax = plt.subplots()\n",
    "\n",
    "words = [\"N/A\", \"Mexico\", \"Italy\", \"USA\", \"France\", \"Andorra\", \"Venezuela\", \"India\", \"United Arab Emirates\", \"Argentina\", \"Brazil\"]\n",
    "counts = finland_countries.to_list()\n",
    "\n",
    "ax.bar(words, counts)\n",
    "\n",
    "ax.set_ylabel('Number of Tweets')\n",
    "ax.set_title('Top 10 Locations of Tweets About Finland')\n",
    "ax.tick_params(axis='x', labelrotation = 80)\n",
    "\n",
    "plt.show()"
   ]
  },
  {
   "cell_type": "code",
   "execution_count": 15,
   "metadata": {},
   "outputs": [
    {
     "name": "stdout",
     "output_type": "stream",
     "text": [
      "sweden mean number of retweets: 7.626666666666667\n",
      "sweden median number of retweets: 1.0\n",
      "sweden mean number of favorites: 1.7777777777777777\n",
      "sweden median number of favorites: 0.0\n",
      "\n",
      "\n",
      "\n",
      "finland mean number of retweets: 106.96928412187268\n",
      "finland median number of retweets: 40.0\n",
      "finland mean number of favorites: 1.1384691602675254\n",
      "finland median number of favorites: 0.0\n"
     ]
    }
   ],
   "source": [
    "# COMPUTE SEPARATELY FOR THE TWO COUNTRIES\n",
    "\n",
    "sweden_mean_rts = sweden_mentions[\"retweetcount\"].mean()\n",
    "sweden_median_rts = sweden_mentions[\"retweetcount\"].median()\n",
    "\n",
    "print(f\"sweden mean number of retweets: {sweden_mean_rts}\")\n",
    "print(f\"sweden median number of retweets: {sweden_median_rts}\")\n",
    "\n",
    "sweden_mean_favs = sweden_mentions[\"favorite_count\"].mean()\n",
    "sweden_median_favs = sweden_mentions[\"favorite_count\"].median()\n",
    "\n",
    "print(f\"sweden mean number of favorites: {sweden_mean_favs}\")\n",
    "print(f\"sweden median number of favorites: {sweden_median_favs}\")\n",
    "\n",
    "print(\"\\n\\n\")\n",
    "\n",
    "finland_mean_rts = finland_mentions[\"retweetcount\"].mean()\n",
    "finland_median_rts = finland_mentions[\"retweetcount\"].median()\n",
    "\n",
    "print(f\"finland mean number of retweets: {finland_mean_rts}\")\n",
    "print(f\"finland median number of retweets: {finland_median_rts}\")\n",
    "\n",
    "finland_mean_favs = finland_mentions[\"favorite_count\"].mean()\n",
    "finland_median_favs = finland_mentions[\"favorite_count\"].median()\n",
    "\n",
    "print(f\"finland mean number of favorites: {finland_mean_favs}\")\n",
    "print(f\"finland median number of favorites: {finland_median_favs}\")"
   ]
  },
  {
   "cell_type": "code",
   "execution_count": 16,
   "metadata": {},
   "outputs": [
    {
     "data": {
      "image/png": "[encoded data removed]",
      "text/plain": [
       "<Figure size 360x194.4 with 1 Axes>"
      ]
     },
     "metadata": {
      "needs_background": "light"
     },
     "output_type": "display_data"
    }
   ],
   "source": [
    "# SWEDEN RETWEETS\n",
    "\n",
    "fig, ax = plt.subplots(figsize=(5, 2.7), layout='constrained')\n",
    "n, bins, patches = ax.hist(list(sweden_mentions[\"retweetcount\"]), 25, facecolor='C0')\n",
    "\n",
    "ax.set_xlabel('Retweets')\n",
    "ax.set_ylabel('Number of tweets')\n",
    "ax.set_title('Retweet Counts of Tweets Mentioning Sweden')\n",
    "ax.grid(True)"
   ]
  },
  {
   "cell_type": "code",
   "execution_count": 17,
   "metadata": {},
   "outputs": [
    {
     "data": {
      "image/png": "[encoded data removed]",
      "text/plain": [
       "<Figure size 360x194.4 with 1 Axes>"
      ]
     },
     "metadata": {
      "needs_background": "light"
     },
     "output_type": "display_data"
    }
   ],
   "source": [
    "# SWEDEN FAVORITES\n",
    "\n",
    "fig, ax = plt.subplots(figsize=(5, 2.7), layout='constrained')\n",
    "n, bins, patches = ax.hist(list(sweden_mentions[\"favorite_count\"]), 25, facecolor='C0')\n",
    "\n",
    "ax.set_xlabel('Favorites')\n",
    "ax.set_ylabel('Number of tweets')\n",
    "ax.set_title('Favorite Counts of Tweets Mentioning Sweden')\n",
    "ax.grid(True)"
   ]
  },
  {
   "cell_type": "code",
   "execution_count": 18,
   "metadata": {},
   "outputs": [
    {
     "data": {
      "image/png": "[encoded data removed]",
      "text/plain": [
       "<Figure size 360x194.4 with 1 Axes>"
      ]
     },
     "metadata": {
      "needs_background": "light"
     },
     "output_type": "display_data"
    }
   ],
   "source": [
    "# FINLAND RETWEETS\n",
    "\n",
    "fig, ax = plt.subplots(figsize=(5, 2.7), layout='constrained')\n",
    "n, bins, patches = ax.hist(list(finland_mentions[\"retweetcount\"]), 25, facecolor='C0')\n",
    "\n",
    "ax.set_xlabel('Retweets')\n",
    "ax.set_ylabel('Number of tweets')\n",
    "ax.set_title('Retweet Counts of Tweets Mentioning Finland')\n",
    "ax.grid(True)"
   ]
  },
  {
   "cell_type": "code",
   "execution_count": 19,
   "metadata": {},
   "outputs": [
    {
     "data": {
      "image/png": "[encoded data removed]",
      "text/plain": [
       "<Figure size 360x194.4 with 1 Axes>"
      ]
     },
     "metadata": {
      "needs_background": "light"
     },
     "output_type": "display_data"
    }
   ],
   "source": [
    "# FINLAND FAVORITES\n",
    "\n",
    "fig, ax = plt.subplots(figsize=(5, 2.7), layout='constrained')\n",
    "n, bins, patches = ax.hist(list(finland_mentions[\"favorite_count\"]), 25, facecolor='C0')\n",
    "\n",
    "ax.set_xlabel('Favorites')\n",
    "ax.set_ylabel('Number of tweets')\n",
    "ax.set_title('Favorite Counts of Tweets Mentioning Finland')\n",
    "ax.grid(True)"
   ]
  },
  {
   "cell_type": "code",
   "execution_count": 20,
   "metadata": {},
   "outputs": [],
   "source": [
    "# create corpuses of tweet text for sweden and finland\n",
    "sweden_corpus = []\n",
    "finland_corpus = []\n",
    "\n",
    "# create a text file for all tweet text mentioning each country\n",
    "# process in separate notebook with different environment\n",
    "sweden_text = sweden_mentions[\"text\"].to_list()\n",
    "finland_text = finland_mentions[\"text\"].to_list()\n",
    "\n",
    "with open(\"sweden_tweets.json\", \"w\") as fp:\n",
    "    json.dump(sweden_text, fp)\n",
    "\n",
    "with open(\"finland_tweets.json\", \"w\") as fp:\n",
    "    json.dump(finland_text, fp)"
   ]
  }
 ],
 "metadata": {
  "kernelspec": {
   "display_name": "data_science",
   "language": "python",
   "name": "python3"
  },
  "language_info": {
   "codemirror_mode": {
    "name": "ipython",
    "version": 3
   },
   "file_extension": ".py",
   "mimetype": "text/x-python",
   "name": "python",
   "nbconvert_exporter": "python",
   "pygments_lexer": "ipython3",
   "version": "3.9.12"
  }
 },
 "nbformat": 4,
 "nbformat_minor": 2
}
